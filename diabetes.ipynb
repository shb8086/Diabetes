{
  "nbformat": 4,
  "nbformat_minor": 0,
  "metadata": {
    "colab": {
      "name": "diabetes.ipynb",
      "provenance": [],
      "collapsed_sections": [],
      "toc_visible": true,
      "authorship_tag": "ABX9TyMUxax/AHTRuC9NR1WPd05k",
      "include_colab_link": true
    },
    "kernelspec": {
      "name": "python3",
      "display_name": "Python 3"
    }
  },
  "cells": [
    {
      "cell_type": "markdown",
      "metadata": {
        "id": "view-in-github",
        "colab_type": "text"
      },
      "source": [
        "<a href=\"https://colab.research.google.com/github/shb8086/Diabetes/blob/main/diabetes.ipynb\" target=\"_parent\"><img src=\"https://colab.research.google.com/assets/colab-badge.svg\" alt=\"Open In Colab\"/></a>"
      ]
    },
    {
      "cell_type": "code",
      "metadata": {
        "id": "qaAqoSBB7aI1",
        "outputId": "676bf504-3095-4c23-aa0e-aafc3a5de9d0",
        "colab": {
          "base_uri": "https://localhost:8080/",
          "height": 35
        }
      },
      "source": [
        "from google.colab import drive\n",
        "drive.mount('/content/gdrive')"
      ],
      "execution_count": 1,
      "outputs": [
        {
          "output_type": "stream",
          "text": [
            "Mounted at /content/gdrive\n"
          ],
          "name": "stdout"
        }
      ]
    },
    {
      "cell_type": "code",
      "metadata": {
        "id": "mnHgjvEh73c1",
        "outputId": "0990a1da-a12d-40b0-b7cb-5be71e4f1dd7",
        "colab": {
          "base_uri": "https://localhost:8080/",
          "height": 272
        }
      },
      "source": [
        "import pandas as pd\n",
        "data=pd.read_csv(\"/content/gdrive/My Drive/Colab Notebooks/diabetes.csv\")\n",
        "Y=data.Outcome\n",
        "#print(Y)\n",
        "data=data.dropna(axis=0)\n",
        "#print(data)\n",
        "#X=data.columns\n",
        "#print(X)\n",
        "features=['Pregnancies', 'Glucose', 'BloodPressure', 'SkinThickness', 'Insulin','BMI', 'DiabetesPedigreeFunction', 'Age']\n",
        "X=data[features]\n",
        "print(X)"
      ],
      "execution_count": 2,
      "outputs": [
        {
          "output_type": "stream",
          "text": [
            "     Pregnancies  Glucose  BloodPressure  ...   BMI  DiabetesPedigreeFunction  Age\n",
            "0              6      148             72  ...  33.6                     0.627   50\n",
            "1              1       85             66  ...  26.6                     0.351   31\n",
            "2              8      183             64  ...  23.3                     0.672   32\n",
            "3              1       89             66  ...  28.1                     0.167   21\n",
            "4              0      137             40  ...  43.1                     2.288   33\n",
            "..           ...      ...            ...  ...   ...                       ...  ...\n",
            "763           10      101             76  ...  32.9                     0.171   63\n",
            "764            2      122             70  ...  36.8                     0.340   27\n",
            "765            5      121             72  ...  26.2                     0.245   30\n",
            "766            1      126             60  ...  30.1                     0.349   47\n",
            "767            1       93             70  ...  30.4                     0.315   23\n",
            "\n",
            "[768 rows x 8 columns]\n"
          ],
          "name": "stdout"
        }
      ]
    },
    {
      "cell_type": "code",
      "metadata": {
        "id": "Y402vpii-WGQ",
        "outputId": "fdb0aee4-5e87-4543-8f79-9ddba08d3a2d",
        "colab": {
          "base_uri": "https://localhost:8080/",
          "height": 54
        }
      },
      "source": [
        "from sklearn.metrics import mean_absolute_error\n",
        "from sklearn.tree import DecisionTreeClassifier\n",
        "model=DecisionTreeClassifier(random_state=1)\n",
        "from sklearn.model_selection import train_test_split\n",
        "train_x, val_x, train_y, val_y = train_test_split(X,Y, random_state=0)\n",
        "model.fit(train_x,train_y)\n",
        "p=model.predict(val_x)\n",
        "#print(p)\n",
        "print(mean_absolute_error(val_y, p))\n",
        "print(model.score(val_x, val_y))"
      ],
      "execution_count": 3,
      "outputs": [
        {
          "output_type": "stream",
          "text": [
            "0.2708333333333333\n",
            "0.7291666666666666\n"
          ],
          "name": "stdout"
        }
      ]
    },
    {
      "cell_type": "code",
      "metadata": {
        "id": "79eQgrf0AEHg",
        "outputId": "b9381dc6-2f94-47bf-8e2d-55af6722cf32",
        "colab": {
          "base_uri": "https://localhost:8080/",
          "height": 54
        }
      },
      "source": [
        "from sklearn import svm\n",
        "model=svm.SVC()\n",
        "model.fit(train_x,train_y)\n",
        "p=model.predict(val_x)\n",
        "print(mean_absolute_error(val_y, p))\n",
        "print(model.score(val_x, val_y))"
      ],
      "execution_count": 8,
      "outputs": [
        {
          "output_type": "stream",
          "text": [
            "0.22916666666666666\n",
            "0.7708333333333334\n"
          ],
          "name": "stdout"
        }
      ]
    },
    {
      "cell_type": "code",
      "metadata": {
        "id": "GXKOBbvtEzVQ",
        "outputId": "eb7978fb-9838-498f-8e92-673341b16731",
        "colab": {
          "base_uri": "https://localhost:8080/",
          "height": 54
        }
      },
      "source": [
        "regr = svm.SVR()\n",
        "regr.fit(train_x,train_y)\n",
        "p=regr.predict(val_x)\n",
        "print(mean_absolute_error(val_y, p))\n",
        "print(regr.score(val_x, val_y))"
      ],
      "execution_count": 9,
      "outputs": [
        {
          "output_type": "stream",
          "text": [
            "0.27610123190177527\n",
            "0.27822013302026327\n"
          ],
          "name": "stdout"
        }
      ]
    },
    {
      "cell_type": "code",
      "metadata": {
        "id": "sFqa2V-AFQyU",
        "outputId": "00ba0e68-bab1-4bc8-867e-81b30fb57137",
        "colab": {
          "base_uri": "https://localhost:8080/",
          "height": 54
        }
      },
      "source": [
        "from sklearn.neural_network import MLPClassifier\n",
        "clf = MLPClassifier(solver='lbfgs', alpha=1e-5,hidden_layer_sizes=(5, 2), random_state=1)\n",
        "clf.fit(train_x,train_y)\n",
        "p=clf.predict(val_x)\n",
        "print(mean_absolute_error(val_y, p))\n",
        "print(clf.score(val_x, val_y))"
      ],
      "execution_count": 10,
      "outputs": [
        {
          "output_type": "stream",
          "text": [
            "0.3229166666666667\n",
            "0.6770833333333334\n"
          ],
          "name": "stdout"
        }
      ]
    }
  ]
}